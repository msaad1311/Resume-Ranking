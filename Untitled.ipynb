{
 "cells": [
  {
   "cell_type": "code",
   "execution_count": 1,
   "metadata": {},
   "outputs": [],
   "source": [
    "import PyPDF2\n",
    "import os\n",
    "from os import listdir\n",
    "from os.path import isfile, join\n",
    "from io import StringIO\n",
    "import pandas as pd\n",
    "from collections import Counter\n",
    "import en_core_web_sm\n",
    "nlp = en_core_web_sm.load()\n",
    "from spacy.matcher import PhraseMatcher"
   ]
  },
  {
   "cell_type": "code",
   "execution_count": 109,
   "metadata": {},
   "outputs": [],
   "source": [
    "import PyPDF2\n",
    "import os\n",
    "from collections import Counter\n",
    "import en_core_web_sm\n",
    "from spacy.matcher import PhraseMatcher\n",
    "from sklearn.feature_extraction.text import CountVectorizer\n",
    "from sklearn.metrics.pairwise import cosine_similarity\n",
    "import re\n",
    "\n",
    "nlp = en_core_web_sm.load()\n",
    "\n",
    "def pdfReader(filePath):\n",
    "    fileReader = PyPDF2.PdfFileReader(open(filePath,'rb'))\n",
    "    print(f'The number of pages in the {filePath} is {fileReader.getNumPages()}')\n",
    "    count = 0\n",
    "    text = []\n",
    "    while count < fileReader.getNumPages():    \n",
    "        pageObj = fileReader.getPage(count)\n",
    "        count +=1\n",
    "        t = pageObj.extractText()\n",
    "        text.append(t)\n",
    "    return text\n",
    "\n",
    "def cleaner(string):\n",
    "    string = re.sub(r\"[-()\\\"#/@;:<>{}`+=~|!?,\\n]\", \"\", string)\n",
    "    string = re.sub(' +', ' ',string)\n",
    "    string = string.lower().replace('\\\\n','')\n",
    "    return string\n",
    "\n",
    "\n"
   ]
  },
  {
   "cell_type": "code",
   "execution_count": 110,
   "metadata": {},
   "outputs": [
    {
     "name": "stdout",
     "output_type": "stream",
     "text": [
      "The number of pages in the Muhammad_Saad_resume - CA.pdf is 2\n",
      "The number of pages in the DeveloperJobDescription.pdf is 2\n",
      "muhammad saad 2265815601 uwaterloo id 20809819 columbia lake village north unit 198 room number clvn198tb objective seeking a position where i can utilize my expertise to support the operations and uplift the social community atmosphere by assisting management in tackling the issues in hand and arranging numerous events enhancing the diversity and coordination amongst the students.experience material & product services engineer philip morris international janõ18 presentroles & responsibilities execute new product initiatives line extensions or product changes.manage tobacco and direct material inventory for pmpkl.lead productivity initiatives.assure timely material development and inspection.supervise specifications of cigarette.monitor the smoke deliveries of product of pmpkl.achievementsregional lead subject matter expert of tracking and tracing of product.reduced the dead stock of tobacco by 78%.harmonized various blends thereby reducing the complexity.leading a regional project for harmonizing fine papers in pakistan. material quality assurance engineer philip morris international roles & responsibilities develop and align all suppliers to pmi standards and procedures. manage direct material inventory for all manufacturing centers. lead productivity initiatives. assure timely material development and inspection. supervise specifications of cigarette.achievements increased the supplier pool by 30%.increased supplier adherence to pmi standards from 40 % to 92%.reduced loss of material by 20% thereby saving $40k.built productivity pipeline of approximately $0.7 million. reduced the logistics cost by 20% by optimizing the distribution network.augõ16 ð decõ17\n",
      "----------------------------------------------------------------------------------------------------\n",
      "schedule a position description job title senior software developer positions this position reports to development manager positions reporting to this position none duties and responsibilities the day to day duties and responsibilities of the position are as follows software engineering activities elicits functional and nonfunctional requirements from stakeholders. detects and resolves conflicting requirements. conducts business analysis andor technical investigation to provide detail for design or aid in decision making. designs to identify and reduce complexity wherever possible. takes desired qualities into account from requirements robustness performance reuseability etc.. documents and explains tradeoffs and rationale behind designs. contributes to design discussions. code follows cfs standards and conventions. code meets required standards of quality including efficiency maintainability reliability and terseness and fitness for purpose. tests programs appropriately during and after construction. balances testing effort according to the risk of changes. uses appropriate testing techniques. works together with testers to ensure the application is sufficiently tested and testable. is responsive to production issues when needed. uses development tools effectively e.g. visual studio subversion jira bamboo etc. follows cfs development processes. suggests improvements where appropriate. keeps the team informed of progress. escalates issues appropriately when roadblocks are reached. manages time efficiently and is considerate of the time of others. other competencies works to improve technical skills in the areas needed to perform work tasks effectively. keeps abreast of new technologies and ways of doing things. acquires knowledge in relevant areas of our businebusinesses. exercises good judgement in all areas e.g. making design tradeoffs assessing risks dealing with others. \n"
     ]
    }
   ],
   "source": [
    "if __name__ =='__main__':\n",
    "    cvs = r'Muhammad_Saad_resume - CA.pdf'\n",
    "    job = r'DeveloperJobDescription.pdf'\n",
    "\n",
    "    ## reading the files\n",
    "    cvsText = cleaner(pdfReader(cvs)[0])\n",
    "    jobText = cleaner(pdfReader(job)[0])\n",
    "\n",
    "    ## displaying the result\n",
    "    print(cvsText)\n",
    "    print('-'*100)\n",
    "    print(jobText)"
   ]
  },
  {
   "cell_type": "code",
   "execution_count": 116,
   "metadata": {},
   "outputs": [
    {
     "name": "stdout",
     "output_type": "stream",
     "text": [
      "muhammad saad 2265815601 uwaterloo id 20809819 columbia lake village north unit 198 room number clvn198tb objective seeking a position where i can utilize my expertise to support the operations and uplift the social community atmosphere by assisting management in tackling the issues in hand and arranging numerous events enhancing the diversity and coordination amongst the students.experience material & product services engineer philip morris international janõ18 presentroles & responsibilities execute new product initiatives line extensions or product changes.manage tobacco and direct material inventory for pmpkl.lead productivity initiatives.assure timely material development and inspection.supervise specifications of cigarette.monitor the smoke deliveries of product of pmpkl.achievementsregional lead subject matter expert of tracking and tracing of product.reduced the dead stock of tobacco by 78%.harmonized various blends thereby reducing the complexity.leading a regional project for harmonizing fine papers in pakistan.\n"
     ]
    }
   ],
   "source": [
    "print(summarize(cvsText,ratio=0.2))"
   ]
  },
  {
   "cell_type": "code",
   "execution_count": 113,
   "metadata": {},
   "outputs": [
    {
     "name": "stdout",
     "output_type": "stream",
     "text": [
      "schedule a position description job title senior software developer positions this position reports to development manager positions reporting to this position none duties and responsibilities the day to day duties and responsibilities of the position are as follows software engineering activities elicits functional and nonfunctional requirements from stakeholders.\n",
      "code meets required standards of quality including efficiency maintainability reliability and terseness and fitness for purpose.\n",
      "uses appropriate testing techniques.\n",
      "other competencies works to improve technical skills in the areas needed to perform work tasks effectively.\n",
      "exercises good judgement in all areas e.g. making design tradeoffs assessing risks dealing with others.\n"
     ]
    }
   ],
   "source": [
    "print(summarize(jobText,word_count=100))"
   ]
  },
  {
   "cell_type": "code",
   "execution_count": null,
   "metadata": {},
   "outputs": [],
   "source": []
  },
  {
   "cell_type": "code",
   "execution_count": null,
   "metadata": {},
   "outputs": [],
   "source": []
  },
  {
   "cell_type": "code",
   "execution_count": null,
   "metadata": {},
   "outputs": [],
   "source": []
  },
  {
   "cell_type": "code",
   "execution_count": null,
   "metadata": {},
   "outputs": [],
   "source": []
  },
  {
   "cell_type": "code",
   "execution_count": null,
   "metadata": {},
   "outputs": [],
   "source": []
  },
  {
   "cell_type": "code",
   "execution_count": null,
   "metadata": {},
   "outputs": [],
   "source": []
  },
  {
   "cell_type": "code",
   "execution_count": 2,
   "metadata": {},
   "outputs": [],
   "source": [
    "#Function to read resumes from the folder one by one\n",
    "mypath=os.getcwd() #enter your path here where you saved the resumes\n",
    "onlyfiles = [os.path.join(mypath, f) for f in os.listdir(mypath) if os.path.isfile(os.path.join(mypath, f))]"
   ]
  },
  {
   "cell_type": "code",
   "execution_count": 3,
   "metadata": {},
   "outputs": [
    {
     "data": {
      "text/plain": [
       "['/Users/saad/Library/Mobile Documents/com~apple~CloudDocs/Projects/Resume Matcher/Muhammad_Saad_resume - CA.pdf',\n",
       " '/Users/saad/Library/Mobile Documents/com~apple~CloudDocs/Projects/Resume Matcher/.DS_Store',\n",
       " '/Users/saad/Library/Mobile Documents/com~apple~CloudDocs/Projects/Resume Matcher/Elliot-Alderson-Resume-Software-Developer-2.pdf',\n",
       " '/Users/saad/Library/Mobile Documents/com~apple~CloudDocs/Projects/Resume Matcher/Untitled.ipynb',\n",
       " '/Users/saad/Library/Mobile Documents/com~apple~CloudDocs/Projects/Resume Matcher/DeveloperJobDescription.pdf',\n",
       " '/Users/saad/Library/Mobile Documents/com~apple~CloudDocs/Projects/Resume Matcher/keywords.csv',\n",
       " '/Users/saad/Library/Mobile Documents/com~apple~CloudDocs/Projects/Resume Matcher/MSaad_Resume.pdf']"
      ]
     },
     "execution_count": 3,
     "metadata": {},
     "output_type": "execute_result"
    }
   ],
   "source": [
    "onlyfiles"
   ]
  },
  {
   "cell_type": "code",
   "execution_count": 91,
   "metadata": {},
   "outputs": [],
   "source": [
    "def pdfextract(file):\n",
    "    fileReader = PyPDF2.PdfFileReader(open(file,'rb'))\n",
    "    countpage = fileReader.getNumPages()\n",
    "    count = 0\n",
    "    text = []\n",
    "    while count < countpage:    \n",
    "        pageObj = fileReader.getPage(count)\n",
    "#         print(pageObj)\n",
    "        count +=1\n",
    "        t = pageObj.extractText()\n",
    "#         print (t)\n",
    "        text.append(t)\n",
    "    return text"
   ]
  },
  {
   "cell_type": "code",
   "execution_count": 118,
   "metadata": {},
   "outputs": [],
   "source": [
    "cvsContent = pdfextract(r'Muhammad_Saad_resume - CA.pdf')\n",
    "jobContent = pdfextract(r'DeveloperJobDescription.pdf')"
   ]
  },
  {
   "cell_type": "code",
   "execution_count": 119,
   "metadata": {},
   "outputs": [
    {
     "data": {
      "text/plain": [
       "list"
      ]
     },
     "execution_count": 119,
     "metadata": {},
     "output_type": "execute_result"
    }
   ],
   "source": [
    "type(cvsContent)"
   ]
  },
  {
   "cell_type": "code",
   "execution_count": 120,
   "metadata": {},
   "outputs": [],
   "source": [
    "cvsText =''\n",
    "for c in cvsContent:\n",
    "    cvsText = cvsText + c.lower().replace('\\n','').replace('|','').replace('!','')\n",
    "\n",
    "jobText =''\n",
    "for j in jobContent:\n",
    "    jobText = jobText + j.lower().replace('\\n','')"
   ]
  },
  {
   "cell_type": "code",
   "execution_count": 121,
   "metadata": {},
   "outputs": [
    {
     "data": {
      "text/plain": [
       "'muhammad saad 226-581-5601  uwaterloo id: 20809819 columbia lake village, north, unit 198; room number clvn-198tb objective  seeking a position where i can utilize my expertise to support the operations and uplift the social community atmosphere by assisting management in tackling the issues in hand and arranging numerous events enhancing the diversity and coordination amongst the students.experience  material & product services engineer          philip morris international  janõ18 - presentroles & responsibilities: \"execute new product initiatives, line extensions or product changes.\"manage tobacco and direct material inventory for pmpkl.\"lead productivity initiatives.\"assure timely material development and inspection.\"supervise specifications of cigarette.\"monitor the smoke deliveries of product of pmpkl.achievements\"regional lead subject matter expert of tracking and tracing of product.\"reduced the dead stock of tobacco by 78%.\"harmonized various blends thereby, reducing the complexity.\"leading a regional project for harmonizing fine papers in pakistan. material quality assurance engineer        philip morris international roles & responsibilities: \"develop and align all suppliers to pmi standards and procedures. \"manage direct material inventory for all manufacturing centers. \"lead productivity initiatives.  \"assure timely material development and inspection. \"supervise specifications of cigarette.achievements: \"increased the supplier pool by 30%.\"increased supplier adherence to pmi standards from 40 % to 92%.\"reduced loss of material by 20% thereby, saving $40k.\"built productivity pipeline of approximately $0.7 million. \"reduced the logistics cost by 20% by optimizing the distribution network.augõ16 ð decõ17quality systems engineer                        philip morris international roles & responsibilities: \"develop and monitor the standard operating procedure of kotri factory.  \"manage customer complaints and non-conforming product.\"lead audits.\"supervise continuous improvement projects such as capaia, pfmea.\"responsible for integrated pest management of kotri factory.achievements: \"certified lead auditor of iso 9001:2015.\"certified lead auditor of ohsas 14001:2007.\"successfully implemented integrated pest management system thereby, reducing overall pest(tobacco & non-tobacco) by 88%.augõ15-augõ16skills & abilities  team playproject management strong analytical skills erp super user  strong communication & presentation skills inventory management education  master in engineering (meng) ð electrical and computer engineering   university of waterloo  janõ19 onwards   '"
      ]
     },
     "execution_count": 121,
     "metadata": {},
     "output_type": "execute_result"
    }
   ],
   "source": [
    "cvsText"
   ]
  },
  {
   "cell_type": "code",
   "execution_count": null,
   "metadata": {},
   "outputs": [],
   "source": []
  },
  {
   "cell_type": "code",
   "execution_count": 48,
   "metadata": {},
   "outputs": [
    {
     "name": "stdout",
     "output_type": "stream",
     "text": [
      "muhammad saad 226-581-5601  uwaterloo id: 20809819 columbia lake village, north, unit 198; room number clvn-198tb objective  seeking a position where i can utilize my expertise to support the operations and uplift the social community atmosphere by assisting management in tackling the issues in hand and arranging numerous events enhancing the diversity and coordination amongst the students.experience  material & product services engineer          philip morris international  janõ18 - presentroles & responsibilities: \"execute new product initiatives, line extensions or product changes.\"manage tobacco and direct material inventory for pmpkl.\"lead productivity initiatives.\"assure timely material development and inspection.\"supervise specifications of cigarette.\"monitor the smoke deliveries of product of pmpkl.achievements\"regional lead subject matter expert of tracking and tracing of product.\"reduced the dead stock of tobacco by 78%.\"harmonized various blends thereby, reducing the complexity.\"leading a regional project for harmonizing fine papers in pakistan.\n"
     ]
    }
   ],
   "source": [
    "from gensim.summarization.summarizer import summarize\n",
    "from gensim.summarization import keywords\n",
    "\n",
    "print(summarize(cvsText,ratio=0.2))"
   ]
  },
  {
   "cell_type": "code",
   "execution_count": 52,
   "metadata": {},
   "outputs": [
    {
     "name": "stdout",
     "output_type": "stream",
     "text": [
      "schedule a  position description   job title: senior software developer positions this position reports to: development manager positions reporting to this position: none  duties and responsibilities  the day to day duties and responsibilities of the position are as follows: software engineering activities  elicits functional and non-functional requirements from stakeholders.\n",
      "other competencies  works to improve technical skills in the areas needed to perform work tasks effectively.\n",
      "exercises good judgement in all areas, e.g. making design trade-offs, assessing risks, dealing with others.\n",
      "works well together with other developers, managers, and the rest of the business.\n",
      "more senior developers are expected to:  handle tasks of higher complexity  be able to work more independently  take more responsibility within the team  in general, have a higher level of productivity  key performance indicators colleague satisfaction as assessed by your team lead, peers and associated project and support staff  note this assessment may be performed either informally by interview or formally via survey subject to the applicable management processes in place at that time.\n",
      "the assessment will include:  how effectively you execute the above responsibilities (includes pro-activeness , responsiveness and thoroughness)   how professionally you interact and communicate with your colleagues (and clients if applicable)   \n"
     ]
    }
   ],
   "source": [
    "print(summarize(jobText,ratio=0.2))"
   ]
  },
  {
   "cell_type": "code",
   "execution_count": 53,
   "metadata": {},
   "outputs": [],
   "source": [
    "overallText = [cvsText,jobText]\n",
    "from sklearn.feature_extraction.text import CountVectorizer\n",
    "cv = CountVectorizer()\n",
    "countMatrix = cv.fit_transform(overallText)"
   ]
  },
  {
   "cell_type": "code",
   "execution_count": 54,
   "metadata": {},
   "outputs": [
    {
     "data": {
      "text/plain": [
       "58.17335770646383"
      ]
     },
     "execution_count": 54,
     "metadata": {},
     "output_type": "execute_result"
    }
   ],
   "source": [
    "matchPercentage = cosine_similarity(countMatrix)[0][1]*100\n",
    "matchPercentage"
   ]
  },
  {
   "cell_type": "code",
   "execution_count": 50,
   "metadata": {},
   "outputs": [],
   "source": [
    "import re\n",
    "cvsText = re.sub(' +', ' ',cvsText)"
   ]
  },
  {
   "cell_type": "code",
   "execution_count": 55,
   "metadata": {},
   "outputs": [],
   "source": [
    "from spacy.matcher import PhraseMatcher\n",
    "import en_core_web_sm\n",
    "Spnlp = en_core_web_sm.load()\n",
    "matcher = PhraseMatcher(Spnlp.vocab)\n",
    "from collections import Counter\n",
    "from gensim.summarization import keywords"
   ]
  },
  {
   "cell_type": "code",
   "execution_count": 57,
   "metadata": {},
   "outputs": [],
   "source": [
    "terms = keywords(jobText,ratio=0.3).split('\\n')\n",
    "patterns = [Spnlp.make_doc(t) for t in terms]\n",
    "matcher.add('Specs',patterns)"
   ]
  },
  {
   "cell_type": "code",
   "execution_count": 61,
   "metadata": {},
   "outputs": [],
   "source": [
    "doc = Spnlp(cvsText)\n",
    "matchKeywords =[]\n",
    "matches = matcher(doc)\n",
    "for match_id,start,end in matches:\n",
    "    span = doc[start:end]\n",
    "    matchKeywords.append(span.text)"
   ]
  },
  {
   "cell_type": "code",
   "execution_count": 62,
   "metadata": {},
   "outputs": [
    {
     "data": {
      "text/plain": [
       "['position',\n",
       " 'management',\n",
       " 'productivity',\n",
       " 'lead',\n",
       " 'complexity',\n",
       " 'lead',\n",
       " 'productivity',\n",
       " 'productivity',\n",
       " 'management',\n",
       " 'lead',\n",
       " 'lead',\n",
       " 'management',\n",
       " 'team',\n",
       " 'management',\n",
       " 'skills',\n",
       " 'skills',\n",
       " 'management']"
      ]
     },
     "execution_count": 62,
     "metadata": {},
     "output_type": "execute_result"
    }
   ],
   "source": [
    "matchKeywords"
   ]
  },
  {
   "cell_type": "code",
   "execution_count": 63,
   "metadata": {},
   "outputs": [
    {
     "data": {
      "text/plain": [
       "Counter({'position': 1,\n",
       "         'management': 5,\n",
       "         'productivity': 3,\n",
       "         'lead': 4,\n",
       "         'complexity': 1,\n",
       "         'team': 1,\n",
       "         'skills': 2})"
      ]
     },
     "execution_count": 63,
     "metadata": {},
     "output_type": "execute_result"
    }
   ],
   "source": [
    "a = Counter(matchKeywords)\n",
    "a"
   ]
  },
  {
   "cell_type": "code",
   "execution_count": 64,
   "metadata": {},
   "outputs": [
    {
     "data": {
      "text/plain": [
       "['tests',\n",
       " 'testing',\n",
       " 'tested',\n",
       " 'developers',\n",
       " 'development manager',\n",
       " 'requirements',\n",
       " 'required',\n",
       " 'works',\n",
       " 'manages',\n",
       " 'managers',\n",
       " 'management',\n",
       " 'activities',\n",
       " 'active',\n",
       " 'good',\n",
       " 'appropriately',\n",
       " 'design',\n",
       " 'designs',\n",
       " 'software developer positions',\n",
       " 'uses appropriate',\n",
       " 'perform work tasks',\n",
       " 'discussions code',\n",
       " 'including',\n",
       " 'include',\n",
       " 'includes',\n",
       " 'performance',\n",
       " 'performed',\n",
       " 'products',\n",
       " 'productivity',\n",
       " 'position',\n",
       " 'staff',\n",
       " 'team',\n",
       " 'trade',\n",
       " 'production issues',\n",
       " 'technical',\n",
       " 'higher',\n",
       " 'complexity',\n",
       " 'things acquires',\n",
       " 'skills',\n",
       " 'functional',\n",
       " 'efficiency',\n",
       " 'efficiently',\n",
       " 'jira',\n",
       " 'studio',\n",
       " 'keeps',\n",
       " 'subversion',\n",
       " 'effectively',\n",
       " 'risk',\n",
       " 'risks',\n",
       " 'takes',\n",
       " 'processes',\n",
       " 'lead',\n",
       " 'follows']"
      ]
     },
     "execution_count": 64,
     "metadata": {},
     "output_type": "execute_result"
    }
   ],
   "source": [
    "terms"
   ]
  },
  {
   "cell_type": "code",
   "execution_count": 65,
   "metadata": {},
   "outputs": [
    {
     "data": {
      "text/plain": [
       "array(['active', 'activities', 'appropriately', 'design', 'designs',\n",
       "       'developers', 'development manager', 'discussions code',\n",
       "       'effectively', 'efficiency', 'efficiently', 'follows',\n",
       "       'functional', 'good', 'higher', 'include', 'includes', 'including',\n",
       "       'jira', 'keeps', 'managers', 'manages', 'perform work tasks',\n",
       "       'performance', 'performed', 'processes', 'production issues',\n",
       "       'products', 'required', 'requirements', 'risk', 'risks',\n",
       "       'software developer positions', 'staff', 'studio', 'subversion',\n",
       "       'takes', 'technical', 'tested', 'testing', 'tests',\n",
       "       'things acquires', 'trade', 'uses appropriate', 'works'],\n",
       "      dtype='<U28')"
      ]
     },
     "execution_count": 65,
     "metadata": {},
     "output_type": "execute_result"
    }
   ],
   "source": [
    "import numpy as np\n",
    "main_list = np.setdiff1d(terms,matchKeywords)\n",
    "main_list"
   ]
  },
  {
   "cell_type": "code",
   "execution_count": 67,
   "metadata": {},
   "outputs": [
    {
     "data": {
      "text/plain": [
       "(45, 52)"
      ]
     },
     "execution_count": 67,
     "metadata": {},
     "output_type": "execute_result"
    }
   ],
   "source": [
    "len(main_list),len(terms)"
   ]
  },
  {
   "cell_type": "code",
   "execution_count": 74,
   "metadata": {
    "scrolled": true
   },
   "outputs": [],
   "source": [
    "def create_profile(file):\n",
    "    text = pdfextract(file) \n",
    "    text = str(text)\n",
    "    text = text.replace(\"\\\\n\", \"\")\n",
    "    text = text.lower()\n",
    "    #below is the csv where we have all the keywords, you can customize your own\n",
    "    keyword_dict = pd.read_csv('keywords.csv')\n",
    "    stats_words = [nlp(text) for text in keyword_dict['Statistics'].dropna(axis = 0)]\n",
    "    NLP_words = [nlp(text) for text in keyword_dict['NLP'].dropna(axis = 0)]\n",
    "    ML_words = [nlp(text) for text in keyword_dict['Machine Learning'].dropna(axis = 0)]\n",
    "    DL_words = [nlp(text) for text in keyword_dict['Deep Learning'].dropna(axis = 0)]\n",
    "    R_words = [nlp(text) for text in keyword_dict['R Language'].dropna(axis = 0)]\n",
    "    python_words = [nlp(text) for text in keyword_dict['Python Language'].dropna(axis = 0)]\n",
    "    Data_Engineering_words = [nlp(text) for text in keyword_dict['Data Engineering'].dropna(axis = 0)]\n",
    "\n",
    "    matcher = PhraseMatcher(nlp.vocab)\n",
    "    matcher.add('Stats', None, *stats_words)\n",
    "    matcher.add('NLP', None, *NLP_words)\n",
    "    matcher.add('ML', None, *ML_words)\n",
    "    matcher.add('DL', None, *DL_words)\n",
    "    matcher.add('R', None, *R_words)\n",
    "    matcher.add('Python', None, *python_words)\n",
    "    matcher.add('DE', None, *Data_Engineering_words)\n",
    "    doc = nlp(text)\n",
    "    \n",
    "    d = []  \n",
    "    matches = matcher(doc)\n",
    "    for match_id, start, end in matches:\n",
    "        rule_id = nlp.vocab.strings[match_id]  # get the unicode ID, i.e. 'COLOR'\n",
    "        span = doc[start : end]  # get the matched slice of the doc\n",
    "        d.append((rule_id, span.text))      \n",
    "    keywords = \"\\n\".join(f'{i[0]} {i[1]} ({j})' for i,j in Counter(d).items())\n",
    "    \n",
    "    ## convertimg string of keywords to dataframe\n",
    "    df = pd.read_csv(StringIO(keywords),names = ['Keywords_List'])\n",
    "    df1 = pd.DataFrame(df.Keywords_List.str.split(' ',1).tolist(),columns = ['Subject','Keyword'])\n",
    "    df2 = pd.DataFrame(df1.Keyword.str.split('(',1).tolist(),columns = ['Keyword', 'Count'])\n",
    "    df3 = pd.concat([df1['Subject'],df2['Keyword'], df2['Count']], axis =1) \n",
    "    df3['Count'] = df3['Count'].apply(lambda x: x.rstrip(\")\"))\n",
    "    \n",
    "    base = os.path.basename(file)\n",
    "    filename = os.path.splitext(base)[0]\n",
    "       \n",
    "    name = filename.split('_')\n",
    "    name2 = name[0]\n",
    "    name2 = name2.lower()\n",
    "    ## converting str to dataframe\n",
    "    name3 = pd.read_csv(StringIO(name2),names = ['Candidate Name'])\n",
    "    \n",
    "    dataf = pd.concat([name3['Candidate Name'], df3['Subject'], df3['Keyword'], df3['Count']], axis = 1)\n",
    "    dataf['Candidate Name'].fillna(dataf['Candidate Name'].iloc[0], inplace = True)\n",
    "\n",
    "    return(dataf)"
   ]
  },
  {
   "cell_type": "code",
   "execution_count": 80,
   "metadata": {},
   "outputs": [],
   "source": [
    "file='Muhammad_Saad_resume - CA.pdf'"
   ]
  },
  {
   "cell_type": "code",
   "execution_count": 112,
   "metadata": {},
   "outputs": [],
   "source": [
    "keyword_dict = pd.read_csv('keywords.csv')\n",
    "stats_words = [nlp(text) for text in keyword_dict['Statistics'].dropna(axis = 0)]\n",
    "NLP_words = [nlp(text) for text in keyword_dict['NLP'].dropna(axis = 0)]\n",
    "ML_words = [nlp(text) for text in keyword_dict['Machine Learning'].dropna(axis = 0)]\n",
    "DL_words = [nlp(text) for text in keyword_dict['Deep Learning'].dropna(axis = 0)]\n",
    "R_words = [nlp(text) for text in keyword_dict['R Language'].dropna(axis = 0)]\n",
    "python_words = [nlp(text) for text in keyword_dict['Python Language'].dropna(axis = 0)]\n",
    "Data_Engineering_words = [nlp(text) for text in keyword_dict['Data Engineering'].dropna(axis = 0)]\n",
    "\n",
    "matcher = PhraseMatcher(nlp.vocab)\n",
    "matcher.add('Stats', None, *stats_words)\n",
    "matcher.add('NLP', None, *NLP_words)\n",
    "matcher.add('ML', None, *ML_words)\n",
    "matcher.add('DL', None, *DL_words)\n",
    "matcher.add('R', None, *R_words)\n",
    "matcher.add('Python', None, *python_words)\n",
    "matcher.add('DE', None, *Data_Engineering_words)"
   ]
  },
  {
   "cell_type": "code",
   "execution_count": 84,
   "metadata": {},
   "outputs": [],
   "source": [
    "text = pdfextract(file) \n",
    "text = str(text)\n",
    "text = text.replace(\"\\\\n\", \"\")\n",
    "text = text.lower()"
   ]
  },
  {
   "cell_type": "code",
   "execution_count": 101,
   "metadata": {
    "collapsed": true
   },
   "outputs": [
    {
     "data": {
      "text/plain": [
       "\"[' 226-581-5601 | uwaterloo id: 20809819| columbia lake village, north, unit 198; room number clvn-198tb objective seeking a position where i can utilize my expertise to support the operations and uplift the social community atmosphere by assisting management in tackling the issues in hand and arranging numerous events enhancing the diversity and coordination amongst the students experience material & product services engineer          philip morris international roles & responsibilities:  execute new product initiatives, line extensions or product changes   manage tobacco and direct material inventory for pmpkl   lead productivity initiatives   assure timely material development and inspection  supervise specifications of cigarette   monitor the smoke deliveries of product of pmpkl achievement:  regional lead subject matter expert of tracking and tracing of product  reduced the dead stock of tobacco by 78%  harmonized various blends thereby, reducing the complexity   leading a regional project for harmonizing fine papers in pakistan - present material quality assurance engineer        philip morris international roles & responsibilities:  develop and align all suppliers to pmi standards and procedures  manage direct material inventory for all manufacturing centers  lead productivity initiatives   assure timely material development and inspection  supervise specifications of cigarette  achievements:  increased the supplier pool by 30%  increased supplier adherence to pmi standards from 40 % to 92%  reduced loss of material by 20% thereby, saving $40k  built productivity pipeline of approximately $0.7 million  reduced the logistics cost by 20% by optimizing the distribution network   quality systems engineer                        philip morris international roles & responsibilities:  develop and monitor the standard operating procedure of kotri factory   manage customer complaints and non-conforming product  lead audits  supervise continuous improvement projects such as capaia, pfmea  responsible for integrated pest management of kotri factory achievements:  certified lead auditor of iso 9001:2015  certified lead auditor of ohsas 14001:2007  successfully implemented integrated pest management system thereby, reducing overall pest(tobacco & non-tobacco) by 88% - skills & abilities education master in engineering (meng)  electrical and computer engineering   university of waterloo  onwards   team play  project management  strong analytical skills  erp super user   strong communication & presentation skills  inventory management ']\""
      ]
     },
     "execution_count": 101,
     "metadata": {},
     "output_type": "execute_result"
    }
   ],
   "source": [
    "text"
   ]
  },
  {
   "cell_type": "code",
   "execution_count": 102,
   "metadata": {},
   "outputs": [],
   "source": [
    "doc = nlp(text)"
   ]
  },
  {
   "cell_type": "code",
   "execution_count": 113,
   "metadata": {},
   "outputs": [],
   "source": [
    "matches = matcher(doc)"
   ]
  },
  {
   "cell_type": "code",
   "execution_count": 114,
   "metadata": {},
   "outputs": [
    {
     "data": {
      "text/plain": [
       "[(6594074041342103539, 113, 114),\n",
       " (6594074041342103539, 216, 217),\n",
       " (6594074041342103539, 315, 316)]"
      ]
     },
     "execution_count": 114,
     "metadata": {},
     "output_type": "execute_result"
    }
   ],
   "source": [
    "matches"
   ]
  },
  {
   "cell_type": "code",
   "execution_count": 115,
   "metadata": {},
   "outputs": [
    {
     "name": "stdout",
     "output_type": "stream",
     "text": [
      "ML\n",
      "supervise\n",
      "[('ML', 'supervise')]\n",
      "ML\n",
      "supervise\n",
      "[('ML', 'supervise'), ('ML', 'supervise')]\n",
      "ML\n",
      "supervise\n",
      "[('ML', 'supervise'), ('ML', 'supervise'), ('ML', 'supervise')]\n"
     ]
    }
   ],
   "source": [
    "d=[]\n",
    "for match_id, start, end in matches:\n",
    "    rule_id = nlp.vocab.strings[match_id]  # get the unicode ID, i.e. 'COLOR'\n",
    "    print(rule_id)\n",
    "    span = doc[start : end]  # get the matched slice of the doc\n",
    "    print(span)\n",
    "    d.append((rule_id, span.text))      \n",
    "    print(d)"
   ]
  },
  {
   "cell_type": "code",
   "execution_count": 116,
   "metadata": {},
   "outputs": [],
   "source": [
    "keywords = \"\\n\".join(f'{i[0]} {i[1]} ({j})' for i,j in Counter(d).items())"
   ]
  },
  {
   "cell_type": "code",
   "execution_count": 119,
   "metadata": {},
   "outputs": [],
   "source": [
    "df = pd.read_csv(StringIO(keywords),names = ['Keywords_List'])"
   ]
  },
  {
   "cell_type": "code",
   "execution_count": 120,
   "metadata": {},
   "outputs": [
    {
     "data": {
      "text/html": [
       "<div>\n",
       "<style scoped>\n",
       "    .dataframe tbody tr th:only-of-type {\n",
       "        vertical-align: middle;\n",
       "    }\n",
       "\n",
       "    .dataframe tbody tr th {\n",
       "        vertical-align: top;\n",
       "    }\n",
       "\n",
       "    .dataframe thead th {\n",
       "        text-align: right;\n",
       "    }\n",
       "</style>\n",
       "<table border=\"1\" class=\"dataframe\">\n",
       "  <thead>\n",
       "    <tr style=\"text-align: right;\">\n",
       "      <th></th>\n",
       "      <th>Keywords_List</th>\n",
       "    </tr>\n",
       "  </thead>\n",
       "  <tbody>\n",
       "    <tr>\n",
       "      <th>0</th>\n",
       "      <td>ML supervise (3)</td>\n",
       "    </tr>\n",
       "  </tbody>\n",
       "</table>\n",
       "</div>"
      ],
      "text/plain": [
       "      Keywords_List\n",
       "0  ML supervise (3)"
      ]
     },
     "execution_count": 120,
     "metadata": {},
     "output_type": "execute_result"
    }
   ],
   "source": [
    "df"
   ]
  },
  {
   "cell_type": "code",
   "execution_count": 54,
   "metadata": {},
   "outputs": [],
   "source": [
    "foo = []\n",
    "for sentences in nlp(text).sents:\n",
    "    foo.append(sentences)"
   ]
  },
  {
   "cell_type": "code",
   "execution_count": 55,
   "metadata": {},
   "outputs": [
    {
     "data": {
      "text/plain": [
       "1"
      ]
     },
     "execution_count": 55,
     "metadata": {},
     "output_type": "execute_result"
    }
   ],
   "source": [
    "len(foo)"
   ]
  },
  {
   "cell_type": "code",
   "execution_count": 73,
   "metadata": {},
   "outputs": [
    {
     "data": {
      "text/plain": [
       "['management',\n",
       " 'manage',\n",
       " 'product',\n",
       " 'lead productivity',\n",
       " 'leading',\n",
       " 'material',\n",
       " 'engineer',\n",
       " 'engineering',\n",
       " 'achievement',\n",
       " 'achievements',\n",
       " 'skills',\n",
       " 'supervise',\n",
       " 'responsibilities',\n",
       " 'responsible',\n",
       " 'reduced',\n",
       " 'reducing',\n",
       " 'community',\n",
       " 'communication',\n",
       " 'suppliers',\n",
       " 'supplier',\n",
       " 'project',\n",
       " 'projects',\n",
       " 'present',\n",
       " 'presentation',\n",
       " 'pest',\n",
       " 'fine',\n",
       " 'strong',\n",
       " 'quality assurance',\n",
       " 'assure',\n",
       " 'numerous events',\n",
       " 'certified',\n",
       " 'number',\n",
       " 'lake']"
      ]
     },
     "execution_count": 73,
     "metadata": {},
     "output_type": "execute_result"
    }
   ],
   "source": [
    "keywords(text).split('\\n')"
   ]
  },
  {
   "cell_type": "code",
   "execution_count": null,
   "metadata": {},
   "outputs": [],
   "source": []
  },
  {
   "cell_type": "code",
   "execution_count": null,
   "metadata": {},
   "outputs": [],
   "source": []
  }
 ],
 "metadata": {
  "kernelspec": {
   "display_name": "Python 3",
   "language": "python",
   "name": "python3"
  },
  "language_info": {
   "codemirror_mode": {
    "name": "ipython",
    "version": 3
   },
   "file_extension": ".py",
   "mimetype": "text/x-python",
   "name": "python",
   "nbconvert_exporter": "python",
   "pygments_lexer": "ipython3",
   "version": "3.7.4"
  }
 },
 "nbformat": 4,
 "nbformat_minor": 2
}
